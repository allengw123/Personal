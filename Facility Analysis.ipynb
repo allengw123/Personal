{
 "cells": [
  {
   "cell_type": "code",
   "execution_count": 31,
   "id": "4720a6d8-2e05-4e02-83a8-0786b74195ba",
   "metadata": {
    "tags": []
   },
   "outputs": [],
   "source": [
    "# -*- coding: utf-8 -*-\n",
    "\"\"\"\n",
    "Created on Fri Jun 14 17:47:36 2024\n",
    "\n",
    "@author: allen\n",
    "\"\"\"\n",
    "#%% Functions\n",
    "\n",
    "import pandas as pd\n",
    "import statsmodels.api as sm\n",
    "import plotly.express as px\n",
    "\n",
    "\n",
    "def extract_titles(input_str):\n",
    "    return input_str.split(' - ')\n",
    "    \n",
    "def filter_data_by_substring(data, column_name, substring):\n",
    "    return data[data[column_name].str.contains(substring, na=False)]\n",
    "\n",
    "def load_csv(file_path):\n",
    "    try:\n",
    "        # Load the CSV file\n",
    "        data = pd.read_csv(file_path)\n",
    "    except FileNotFoundError:\n",
    "        print(f\"File not found: {file_path}\")\n",
    "    except pd.errors.EmptyDataError:\n",
    "        print(\"No data: The file is empty\")\n",
    "    except pd.errors.ParserError:\n",
    "        print(\"Parse error: Check the file format\")\n",
    "    except Exception as e:\n",
    "        print(f\"An error occurred: {e}\")\n",
    "    return data\n",
    "\n",
    "\n",
    "def plot_regression_with_stats(data, x_column, y_column, name_column):\n",
    "    \n",
    "    data = data[[x_column, y_column,name_column]].dropna()\n",
    "    data[x_column] = pd.to_numeric(data[x_column], errors='coerce')\n",
    "    data[y_column] = pd.to_numeric(data[y_column], errors='coerce')\n",
    "    data = data.dropna()\n",
    "\n",
    "    # Fit the regression model\n",
    "    X = data[[x_column]]\n",
    "    y = data[y_column]\n",
    "    \n",
    "    model = sm.OLS(y, X).fit()\n",
    "\n",
    "    # Get R-squared and p-value\n",
    "    r_squared = model.rsquared\n",
    "    p_value = model.pvalues[0]  # p-value for the x_column coefficient\n",
    "\n",
    "    # Plot the data\n",
    "    fig = px.scatter(data, x=x_column, y=y_column, hover_data=name_column)\n",
    "    \n",
    "    # Add the regression line\n",
    "    regression_line = pd.DataFrame({x_column: data[x_column], y_column: model.predict(X)})\n",
    "    fig.add_traces(\n",
    "        px.line(\n",
    "            regression_line, x=x_column, y=y_column\n",
    "        ).data\n",
    "    )\n",
    "\n",
    "    # Update layout to make hover text more readable\n",
    "    fig.update_traces(textposition='top center')\n",
    "\n",
    "    \n",
    "    # Add titles and labels\n",
    "    fig.update_layout(\n",
    "        title=extract_titles(x_column)[1],\n",
    "        xaxis_title=extract_titles(x_column)[2],\n",
    "        yaxis_title=extract_titles(y_column)[2],\n",
    "        annotations=[dict(\n",
    "            x=0.05,\n",
    "            y=0.95,\n",
    "            xref='paper',\n",
    "            yref='paper',\n",
    "            text=f'R-squared = {r_squared:.2f}<br>p-value = {p_value:.2e}',\n",
    "            showarrow=False,\n",
    "            font=dict(size=12)\n",
    "        )]\n",
    "    )\n",
    "    # Show the plot\n",
    "    fig.show()  \n",
    "    "
   ]
  },
  {
   "cell_type": "markdown",
   "id": "6b4b0b45-8673-4270-9f2f-954eb70623d9",
   "metadata": {},
   "source": [
    "# Implant Facility Analysis"
   ]
  },
  {
   "cell_type": "code",
   "execution_count": 32,
   "id": "ce27cecc-9685-4a26-a467-40ca93407873",
   "metadata": {
    "tags": []
   },
   "outputs": [
    {
     "ename": "TypeError",
     "evalue": "unhashable type: 'list'",
     "output_type": "error",
     "traceback": [
      "\u001b[1;31m---------------------------------------------------------------------------\u001b[0m",
      "\u001b[1;31mTypeError\u001b[0m                                 Traceback (most recent call last)",
      "Cell \u001b[1;32mIn[32], line 17\u001b[0m\n\u001b[0;32m     15\u001b[0m \u001b[38;5;66;03m# Create regression\u001b[39;00m\n\u001b[0;32m     16\u001b[0m \u001b[38;5;28;01mfor\u001b[39;00m x,y \u001b[38;5;129;01min\u001b[39;00m \u001b[38;5;28mzip\u001b[39m(total_patients\u001b[38;5;241m.\u001b[39mcolumns,total_revenue\u001b[38;5;241m.\u001b[39mcolumns):\n\u001b[1;32m---> 17\u001b[0m     plot_regression_with_stats(data,x,y,[\u001b[38;5;124m'\u001b[39m\u001b[38;5;124mOrganization Legal Name\u001b[39m\u001b[38;5;124m'\u001b[39m])\n",
      "Cell \u001b[1;32mIn[31], line 40\u001b[0m, in \u001b[0;36mplot_regression_with_stats\u001b[1;34m(data, x_column, y_column, name_column)\u001b[0m\n\u001b[0;32m     38\u001b[0m \u001b[38;5;28;01mdef\u001b[39;00m \u001b[38;5;21mplot_regression_with_stats\u001b[39m(data, x_column, y_column, name_column):\n\u001b[1;32m---> 40\u001b[0m     data \u001b[38;5;241m=\u001b[39m data[[x_column, y_column,name_column]]\u001b[38;5;241m.\u001b[39mdropna()\n\u001b[0;32m     41\u001b[0m     data[x_column] \u001b[38;5;241m=\u001b[39m pd\u001b[38;5;241m.\u001b[39mto_numeric(data[x_column], errors\u001b[38;5;241m=\u001b[39m\u001b[38;5;124m'\u001b[39m\u001b[38;5;124mcoerce\u001b[39m\u001b[38;5;124m'\u001b[39m)\n\u001b[0;32m     42\u001b[0m     data[y_column] \u001b[38;5;241m=\u001b[39m pd\u001b[38;5;241m.\u001b[39mto_numeric(data[y_column], errors\u001b[38;5;241m=\u001b[39m\u001b[38;5;124m'\u001b[39m\u001b[38;5;124mcoerce\u001b[39m\u001b[38;5;124m'\u001b[39m)\n",
      "File \u001b[1;32m~\\anaconda3\\Lib\\site-packages\\pandas\\core\\frame.py:3813\u001b[0m, in \u001b[0;36mDataFrame.__getitem__\u001b[1;34m(self, key)\u001b[0m\n\u001b[0;32m   3811\u001b[0m     \u001b[38;5;28;01mif\u001b[39;00m is_iterator(key):\n\u001b[0;32m   3812\u001b[0m         key \u001b[38;5;241m=\u001b[39m \u001b[38;5;28mlist\u001b[39m(key)\n\u001b[1;32m-> 3813\u001b[0m     indexer \u001b[38;5;241m=\u001b[39m \u001b[38;5;28mself\u001b[39m\u001b[38;5;241m.\u001b[39mcolumns\u001b[38;5;241m.\u001b[39m_get_indexer_strict(key, \u001b[38;5;124m\"\u001b[39m\u001b[38;5;124mcolumns\u001b[39m\u001b[38;5;124m\"\u001b[39m)[\u001b[38;5;241m1\u001b[39m]\n\u001b[0;32m   3815\u001b[0m \u001b[38;5;66;03m# take() does not accept boolean indexers\u001b[39;00m\n\u001b[0;32m   3816\u001b[0m \u001b[38;5;28;01mif\u001b[39;00m \u001b[38;5;28mgetattr\u001b[39m(indexer, \u001b[38;5;124m\"\u001b[39m\u001b[38;5;124mdtype\u001b[39m\u001b[38;5;124m\"\u001b[39m, \u001b[38;5;28;01mNone\u001b[39;00m) \u001b[38;5;241m==\u001b[39m \u001b[38;5;28mbool\u001b[39m:\n",
      "File \u001b[1;32m~\\anaconda3\\Lib\\site-packages\\pandas\\core\\indexes\\base.py:6065\u001b[0m, in \u001b[0;36mIndex._get_indexer_strict\u001b[1;34m(self, key, axis_name)\u001b[0m\n\u001b[0;32m   6062\u001b[0m     keyarr \u001b[38;5;241m=\u001b[39m com\u001b[38;5;241m.\u001b[39masarray_tuplesafe(keyarr)\n\u001b[0;32m   6064\u001b[0m \u001b[38;5;28;01mif\u001b[39;00m \u001b[38;5;28mself\u001b[39m\u001b[38;5;241m.\u001b[39m_index_as_unique:\n\u001b[1;32m-> 6065\u001b[0m     indexer \u001b[38;5;241m=\u001b[39m \u001b[38;5;28mself\u001b[39m\u001b[38;5;241m.\u001b[39mget_indexer_for(keyarr)\n\u001b[0;32m   6066\u001b[0m     keyarr \u001b[38;5;241m=\u001b[39m \u001b[38;5;28mself\u001b[39m\u001b[38;5;241m.\u001b[39mreindex(keyarr)[\u001b[38;5;241m0\u001b[39m]\n\u001b[0;32m   6067\u001b[0m \u001b[38;5;28;01melse\u001b[39;00m:\n",
      "File \u001b[1;32m~\\anaconda3\\Lib\\site-packages\\pandas\\core\\indexes\\base.py:6052\u001b[0m, in \u001b[0;36mIndex.get_indexer_for\u001b[1;34m(self, target)\u001b[0m\n\u001b[0;32m   6034\u001b[0m \u001b[38;5;250m\u001b[39m\u001b[38;5;124;03m\"\"\"\u001b[39;00m\n\u001b[0;32m   6035\u001b[0m \u001b[38;5;124;03mGuaranteed return of an indexer even when non-unique.\u001b[39;00m\n\u001b[0;32m   6036\u001b[0m \n\u001b[1;32m   (...)\u001b[0m\n\u001b[0;32m   6049\u001b[0m \u001b[38;5;124;03marray([0, 2])\u001b[39;00m\n\u001b[0;32m   6050\u001b[0m \u001b[38;5;124;03m\"\"\"\u001b[39;00m\n\u001b[0;32m   6051\u001b[0m \u001b[38;5;28;01mif\u001b[39;00m \u001b[38;5;28mself\u001b[39m\u001b[38;5;241m.\u001b[39m_index_as_unique:\n\u001b[1;32m-> 6052\u001b[0m     \u001b[38;5;28;01mreturn\u001b[39;00m \u001b[38;5;28mself\u001b[39m\u001b[38;5;241m.\u001b[39mget_indexer(target)\n\u001b[0;32m   6053\u001b[0m indexer, _ \u001b[38;5;241m=\u001b[39m \u001b[38;5;28mself\u001b[39m\u001b[38;5;241m.\u001b[39mget_indexer_non_unique(target)\n\u001b[0;32m   6054\u001b[0m \u001b[38;5;28;01mreturn\u001b[39;00m indexer\n",
      "File \u001b[1;32m~\\anaconda3\\Lib\\site-packages\\pandas\\core\\indexes\\base.py:3973\u001b[0m, in \u001b[0;36mIndex.get_indexer\u001b[1;34m(self, target, method, limit, tolerance)\u001b[0m\n\u001b[0;32m   3968\u001b[0m     target \u001b[38;5;241m=\u001b[39m target\u001b[38;5;241m.\u001b[39mastype(dtype, copy\u001b[38;5;241m=\u001b[39m\u001b[38;5;28;01mFalse\u001b[39;00m)\n\u001b[0;32m   3969\u001b[0m     \u001b[38;5;28;01mreturn\u001b[39;00m this\u001b[38;5;241m.\u001b[39m_get_indexer(\n\u001b[0;32m   3970\u001b[0m         target, method\u001b[38;5;241m=\u001b[39mmethod, limit\u001b[38;5;241m=\u001b[39mlimit, tolerance\u001b[38;5;241m=\u001b[39mtolerance\n\u001b[0;32m   3971\u001b[0m     )\n\u001b[1;32m-> 3973\u001b[0m \u001b[38;5;28;01mreturn\u001b[39;00m \u001b[38;5;28mself\u001b[39m\u001b[38;5;241m.\u001b[39m_get_indexer(target, method, limit, tolerance)\n",
      "File \u001b[1;32m~\\anaconda3\\Lib\\site-packages\\pandas\\core\\indexes\\base.py:4000\u001b[0m, in \u001b[0;36mIndex._get_indexer\u001b[1;34m(self, target, method, limit, tolerance)\u001b[0m\n\u001b[0;32m   3997\u001b[0m     \u001b[38;5;28;01melse\u001b[39;00m:\n\u001b[0;32m   3998\u001b[0m         tgt_values \u001b[38;5;241m=\u001b[39m target\u001b[38;5;241m.\u001b[39m_get_engine_target()\n\u001b[1;32m-> 4000\u001b[0m     indexer \u001b[38;5;241m=\u001b[39m \u001b[38;5;28mself\u001b[39m\u001b[38;5;241m.\u001b[39m_engine\u001b[38;5;241m.\u001b[39mget_indexer(tgt_values)\n\u001b[0;32m   4002\u001b[0m \u001b[38;5;28;01mreturn\u001b[39;00m ensure_platform_int(indexer)\n",
      "File \u001b[1;32m~\\anaconda3\\Lib\\site-packages\\pandas\\_libs\\index.pyx:308\u001b[0m, in \u001b[0;36mpandas._libs.index.IndexEngine.get_indexer\u001b[1;34m()\u001b[0m\n",
      "File \u001b[1;32mpandas\\_libs\\hashtable_class_helper.pxi:5794\u001b[0m, in \u001b[0;36mpandas._libs.hashtable.PyObjectHashTable.lookup\u001b[1;34m()\u001b[0m\n",
      "\u001b[1;31mTypeError\u001b[0m: unhashable type: 'list'"
     ]
    }
   ],
   "source": [
    "# Specify the file path\n",
    "file_path = 'C:/Users/allen/Documents/Abbott/Implant Facility.csv'\n",
    "\n",
    "# Call the function to load the CSV\n",
    "data = load_csv(file_path)\n",
    "\n",
    "# Filter by state\n",
    "data = filter_data_by_substring(data, 'State (Practice)', 'OH')\n",
    "\n",
    "# Get data\n",
    "column_headers = data.columns\n",
    "total_patients = data['Total Patients']\n",
    "total_revenue = data['Total Revenue']\n",
    "\n",
    "# Create regression\n",
    "for x,y in zip(total_patients.columns,total_revenue.columns):\n",
    "    plot_regression_with_stats(data,x,y,['Organization Legal Name'])"
   ]
  },
  {
   "cell_type": "markdown",
   "id": "3e915d34-69cb-4404-bb40-c3f5bba28c29",
   "metadata": {},
   "source": [
    "# Analysis Community Neurologist"
   ]
  },
  {
   "cell_type": "code",
   "execution_count": null,
   "id": "9557f66e-d13f-429b-8e47-847435ce5b4d",
   "metadata": {
    "tags": []
   },
   "outputs": [],
   "source": [
    "# Specify the file path\n",
    "file_path = 'C:/Users/allen/Documents/Abbott/Community Neurologist.csv'\n",
    "\n",
    "# Call the function to load the CSV\n",
    "data = load_csv(file_path)\n",
    "\n",
    "# Filter by state\n",
    "data = filter_data_by_substring(data, 'State (Practice)', 'OH')\n",
    "\n",
    "# Get data\n",
    "column_headers = data.columns\n",
    "total_patients = get_column_data(data, 'Total Patients')\n",
    "total_revenue = get_column_data(data, 'Revenue')\n",
    "\n",
    "# Create regression\n",
    "for x,y in zip(total_patients.columns,total_revenue.columns):\n",
    "    plot_regression_with_stats(data,x,y,'Affiliated Practice')"
   ]
  },
  {
   "cell_type": "code",
   "execution_count": null,
   "id": "e0863dd3-0012-46ac-b1ac-ec1c66bf3c63",
   "metadata": {},
   "outputs": [],
   "source": []
  }
 ],
 "metadata": {
  "kernelspec": {
   "display_name": "Python 3 (ipykernel)",
   "language": "python",
   "name": "python3"
  },
  "language_info": {
   "codemirror_mode": {
    "name": "ipython",
    "version": 3
   },
   "file_extension": ".py",
   "mimetype": "text/x-python",
   "name": "python",
   "nbconvert_exporter": "python",
   "pygments_lexer": "ipython3",
   "version": "3.11.4"
  }
 },
 "nbformat": 4,
 "nbformat_minor": 5
}
